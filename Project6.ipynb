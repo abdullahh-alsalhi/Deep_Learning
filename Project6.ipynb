{
 "cells": [
  {
   "cell_type": "markdown",
   "metadata": {
    "id": "BU1YHxxoG_kV"
   },
   "source": [
    "**Download the MNIST dataset and load it into your preferred development environment**"
   ]
  },
  {
   "cell_type": "code",
   "execution_count": 52,
   "metadata": {
    "colab": {
     "base_uri": "https://localhost:8080/",
     "height": 537
    },
    "id": "WPxosIcFG8gk",
    "outputId": "75af87e8-672c-4898-b4d2-f9a2e97e2633"
   },
   "outputs": [
    {
     "name": "stdout",
     "output_type": "stream",
     "text": [
      "X_train shape: (60000, 28, 28)\n",
      "y_train shape: (60000,)\n",
      "X_test shape: (10000, 28, 28)\n",
      "y_test shape: (10000,)\n"
     ]
    },
    {
     "data": {
      "image/png": "[encoded data removed]",
      "text/plain": [
       "<Figure size 640x480 with 1 Axes>"
      ]
     },
     "metadata": {},
     "output_type": "display_data"
    }
   ],
   "source": [
    "import keras\n",
    "from keras.datasets import mnist\n",
    "from sklearn.model_selection import train_test_split\n",
    "import numpy as np\n",
    "\n",
    "(X_train, y_train), (X_test, y_test) = mnist.load_data()\n",
    "\n",
    "X_train = X_train.reshape(-1, 28, 28).astype('float32') / 255\n",
    "X_test = X_test.reshape(-1, 28, 28).astype('float32') / 255\n",
    "print('X_train shape:', X_train.shape)\n",
    "print('y_train shape:', y_train.shape)\n",
    "print('X_test shape:', X_test.shape)\n",
    "print('y_test shape:', y_test.shape)\n",
    "\n",
    "import matplotlib.pyplot as plt\n",
    "plt.imshow(X_train[0], cmap='gray')\n",
    "plt.show()"
   ]
  },
  {
   "cell_type": "code",
   "execution_count": 53,
   "metadata": {
    "colab": {
     "base_uri": "https://localhost:8080/"
    },
    "id": "IsCFEX7uIB3_",
    "outputId": "206df9fd-5337-4602-97aa-b758132436eb"
   },
   "outputs": [
    {
     "name": "stdout",
     "output_type": "stream",
     "text": [
      "X_train shape: (48000, 784)\n",
      "y_train shape: (48000,)\n",
      "X_val shape: (12000, 784)\n",
      "y_val shape: (12000,)\n",
      "X_test shape: (10000, 784)\n",
      "y_test shape: (10000,)\n"
     ]
    }
   ],
   "source": [
    "\n",
    "# Normalize pixel values to the range of 0 and 1\n",
    "X_train = X_train.astype('float32') / 255.0\n",
    "X_test = X_test.astype('float32') / 255.0\n",
    "\n",
    "# Reshape the images to a 1D array of 784 features (28x28)\n",
    "X_train = X_train.reshape((X_train.shape[0], 28 * 28))\n",
    "X_test = X_test.reshape((X_test.shape[0], 28 * 28))\n",
    "\n",
    "# Split the data into training and testing sets\n",
    "X_train, X_val, y_train, y_val = train_test_split(X_train, y_train, test_size=0.2, random_state=42)\n",
    "\n",
    "# Print the shapes of the datasets\n",
    "print('X_train shape:', X_train.shape)\n",
    "print('y_train shape:', y_train.shape)\n",
    "print('X_val shape:', X_val.shape)\n",
    "print('y_val shape:', y_val.shape)\n",
    "print('X_test shape:', X_test.shape)\n",
    "print('y_test shape:', y_test.shape)"
   ]
  },
  {
   "cell_type": "markdown",
   "metadata": {
    "id": "p5elmGK0JA8q"
   },
   "source": [
    "**Implement a baseline model using traditional machine learning algorithms such as logistic regression**"
   ]
  },
  {
   "cell_type": "code",
   "execution_count": 54,
   "metadata": {
    "colab": {
     "base_uri": "https://localhost:8080/"
    },
    "id": "EIvP5aOfI5Zu",
    "outputId": "9ac95775-44b9-4c40-8d17-3bad868d2fd6"
   },
   "outputs": [
    {
     "name": "stdout",
     "output_type": "stream",
     "text": [
      "Validation Accuracy: 0.7445\n",
      "Test Accuracy: 0.764\n"
     ]
    }
   ],
   "source": [
    "from sklearn.linear_model import LogisticRegression\n",
    "from sklearn.metrics import accuracy_score\n",
    "\n",
    "# Create a Logistic Regression model\n",
    "model = LogisticRegression()\n",
    "\n",
    "# Fit the model on the training data\n",
    "model.fit(X_train, y_train)\n",
    "\n",
    "# Make predictions on the validation set\n",
    "y_pred = model.predict(X_val)\n",
    "\n",
    "# Calculate accuracy on the validation set\n",
    "accuracy = accuracy_score(y_val, y_pred)\n",
    "print(\"Validation Accuracy:\", accuracy)\n",
    "\n",
    "# Make predictions on the test set\n",
    "y_pred_test = model.predict(X_test)\n",
    "\n",
    "# Calculate accuracy on the test set\n",
    "test_accuracy = accuracy_score(y_test, y_pred_test)\n",
    "print(\"Test Accuracy:\", test_accuracy)"
   ]
  },
  {
   "cell_type": "markdown",
   "metadata": {
    "id": "ePlD7HT8JnPV"
   },
   "source": [
    "** Evaluate the baseline model's performance using appropriate evaluation metrics **"
   ]
  },
  {
   "cell_type": "code",
   "execution_count": 55,
   "metadata": {
    "colab": {
     "base_uri": "https://localhost:8080/"
    },
    "id": "_zHxYZvHJHA4",
    "outputId": "8008d567-ebcb-4db8-f1b0-4d26ffe4d0d0"
   },
   "outputs": [
    {
     "name": "stdout",
     "output_type": "stream",
     "text": [
      "Accuracy: 0.764\n",
      "Precision: 0.8110328602335717\n",
      "Recall: 0.7555718116451559\n",
      "F1 Score: 0.7466470170367491\n",
      "Confusion Matrix:\n",
      "[[ 939    3    2    8    0    0   21    3    4    0]\n",
      " [   0 1127    1    3    0    0    3    0    1    0]\n",
      " [  35  176  701   27   18    0   24   26   24    1]\n",
      " [  10   65   23  862    0    0    6   22   18    4]\n",
      " [   7   75    2    0  794    0   34   11    2   57]\n",
      " [  73  171    2  290   23  198   37   48   21   29]\n",
      " [  35   55   14    0   10    2  840    1    1    0]\n",
      " [   3   91   16    1    9    0    2  894    2   10]\n",
      " [  28  142   12  114    9    2   19   31  599   18]\n",
      " [  28   55    8   12   83    0    4  127    6  686]]\n"
     ]
    }
   ],
   "source": [
    "from sklearn.metrics import accuracy_score, precision_score, recall_score, f1_score, confusion_matrix\n",
    "\n",
    "# Calculate accuracy\n",
    "accuracy = accuracy_score(y_test, y_pred_test)\n",
    "print(\"Accuracy:\", accuracy)\n",
    "\n",
    "# Calculate precision\n",
    "precision = precision_score(y_test, y_pred_test, average='macro')\n",
    "print(\"Precision:\", precision)\n",
    "\n",
    "# Calculate recall\n",
    "recall = recall_score(y_test, y_pred_test, average='macro')\n",
    "print(\"Recall:\", recall)\n",
    "\n",
    "# Calculate F1 score\n",
    "f1 = f1_score(y_test, y_pred_test, average='macro')\n",
    "print(\"F1 Score:\", f1)\n",
    "\n",
    "# Calculate confusion matrix\n",
    "confusion_mat = confusion_matrix(y_test, y_pred_test)\n",
    "print(\"Confusion Matrix:\")\n",
    "print(confusion_mat)"
   ]
  },
  {
   "cell_type": "markdown",
   "metadata": {
    "id": "x05x8zUtJ_Yb"
   },
   "source": [
    "**Create an ensemble of three different machine learning algorithms**"
   ]
  },
  {
   "cell_type": "code",
   "execution_count": 56,
   "metadata": {
    "colab": {
     "base_uri": "https://localhost:8080/"
    },
    "id": "27PNa03UJvL8",
    "outputId": "a1943671-5ec1-472c-be41-d90a19f1bb75"
   },
   "outputs": [
    {
     "name": "stdout",
     "output_type": "stream",
     "text": [
      "Ensemble Validation Accuracy: 0.97175\n",
      "Ensemble Test Accuracy: 0.9733\n"
     ]
    }
   ],
   "source": [
    "from sklearn.tree import DecisionTreeClassifier\n",
    "from sklearn.ensemble import RandomForestClassifier\n",
    "from sklearn.svm import SVC\n",
    "from sklearn.ensemble import VotingClassifier\n",
    "from sklearn.metrics import accuracy_score\n",
    "\n",
    "# Create individual models\n",
    "decision_tree = DecisionTreeClassifier()\n",
    "random_forest = RandomForestClassifier()\n",
    "svm = SVC()\n",
    "\n",
    "# Create an ensemble using VotingClassifier\n",
    "ensemble_model = VotingClassifier(estimators=[\n",
    "    ('decision_tree', decision_tree),\n",
    "    ('random_forest', random_forest),\n",
    "    ('svm', svm)\n",
    "], voting='hard')\n",
    "\n",
    "# Fit the ensemble model on the training data\n",
    "ensemble_model.fit(X_train, y_train)\n",
    "\n",
    "# Make predictions on the validation set\n",
    "y_pred_ensemble = ensemble_model.predict(X_val)\n",
    "\n",
    "# Calculate accuracy on the validation set\n",
    "ensemble_accuracy = accuracy_score(y_val, y_pred_ensemble)\n",
    "print(\"Ensemble Validation Accuracy:\", ensemble_accuracy)\n",
    "\n",
    "# Make predictions on the test set\n",
    "y_pred_ensemble_test = ensemble_model.predict(X_test)\n",
    "\n",
    "# Calculate accuracy on the test set\n",
    "ensemble_test_accuracy = accuracy_score(y_test, y_pred_ensemble_test)\n",
    "print(\"Ensemble Test Accuracy:\", ensemble_test_accuracy)"
   ]
  },
  {
   "cell_type": "markdown",
   "metadata": {
    "id": "GAeYZC3BKmzH"
   },
   "source": [
    "**Combine the predictions of individual models using techniques such as averaging or voting**"
   ]
  },
  {
   "cell_type": "code",
   "execution_count": 57,
   "metadata": {
    "colab": {
     "base_uri": "https://localhost:8080/"
    },
    "id": "XJsjIoA4KMs2",
    "outputId": "30672981-9423-4c9a-aff8-14e4b538abda"
   },
   "outputs": [
    {
     "name": "stdout",
     "output_type": "stream",
     "text": [
      "Combined Validation Accuracy: 0.8790833333333333\n",
      "Combined Test Accuracy: 0.8877\n"
     ]
    }
   ],
   "source": [
    "from sklearn.tree import DecisionTreeClassifier\n",
    "from sklearn.ensemble import RandomForestClassifier\n",
    "from sklearn.svm import SVC\n",
    "from sklearn.metrics import accuracy_score\n",
    "\n",
    "# Create individual models\n",
    "decision_tree = DecisionTreeClassifier()\n",
    "random_forest = RandomForestClassifier()\n",
    "svm = SVC()\n",
    "\n",
    "# Fit the individual models on the training data\n",
    "decision_tree.fit(X_train, y_train)\n",
    "random_forest.fit(X_train, y_train)\n",
    "svm.fit(X_train, y_train)\n",
    "\n",
    "# Make predictions on the validation set\n",
    "y_pred_decision_tree = decision_tree.predict(X_val)\n",
    "y_pred_random_forest = random_forest.predict(X_val)\n",
    "y_pred_svm = svm.predict(X_val)\n",
    "\n",
    "# Combine predictions using voting\n",
    "y_pred_combined = (y_pred_decision_tree + y_pred_random_forest + y_pred_svm) // 3\n",
    "\n",
    "# Calculate accuracy on the validation set\n",
    "combined_accuracy = accuracy_score(y_val, y_pred_combined)\n",
    "print(\"Combined Validation Accuracy:\", combined_accuracy)\n",
    "\n",
    "# Make predictions on the test set\n",
    "y_pred_decision_tree_test = decision_tree.predict(X_test)\n",
    "y_pred_random_forest_test = random_forest.predict(X_test)\n",
    "y_pred_svm_test = svm.predict(X_test)\n",
    "\n",
    "# Combine predictions using average\n",
    "y_pred_combined_test = (y_pred_decision_tree_test + y_pred_random_forest_test + y_pred_svm_test) // 3\n",
    "\n",
    "# Calculate accuracy on the test set\n",
    "combined_test_accuracy = accuracy_score(y_test, y_pred_combined_test)\n",
    "print(\"Combined Test Accuracy:\", combined_test_accuracy)"
   ]
  },
  {
   "cell_type": "markdown",
   "metadata": {
    "id": "F8aNNmXaK6bL"
   },
   "source": [
    "**Evaluate the ensemble model's performance and compare it with the baseline model**"
   ]
  },
  {
   "cell_type": "code",
   "execution_count": 58,
   "metadata": {
    "colab": {
     "base_uri": "https://localhost:8080/"
    },
    "id": "4HgcsFxEKsGi",
    "outputId": "73e38805-6565-4100-ff97-906bb013f29b"
   },
   "outputs": [
    {
     "name": "stdout",
     "output_type": "stream",
     "text": [
      "Ensemble Model Metrics:\n",
      "Accuracy: 0.8877\n",
      "Precision: 0.8905319678278341\n",
      "Recall: 0.8859859821555798\n",
      "F1 Score: 0.8865101299261985\n",
      "Confusion Matrix:\n",
      "[[ 925   19   24    7    1    0    1    1    2    0]\n",
      " [   0 1105   10   14    2    2    1    1    0    0]\n",
      " [   2   20  904   41   53    4    4    2    2    0]\n",
      " [   0    0   43  897   39   16    8    4    3    0]\n",
      " [   0    0    2   23  854   84    4   10    2    3]\n",
      " [   2    3    0   29   65  746   41    4    1    1]\n",
      " [   3    2    3    0   35   39  871    4    1    0]\n",
      " [   1    4    9    7    8   42   13  936    7    1]\n",
      " [   2    3    2    2    4   23   91   52  794    1]\n",
      " [   1    5    3    4    8   14   22   73   34  845]]\n",
      "\n",
      "Baseline Model Metrics:\n",
      "Accuracy: 0.764\n",
      "Precision: 0.8110328602335717\n",
      "Recall: 0.7555718116451559\n",
      "F1 Score: 0.7466470170367491\n",
      "Confusion Matrix:\n",
      "[[ 939    3    2    8    0    0   21    3    4    0]\n",
      " [   0 1127    1    3    0    0    3    0    1    0]\n",
      " [  35  176  701   27   18    0   24   26   24    1]\n",
      " [  10   65   23  862    0    0    6   22   18    4]\n",
      " [   7   75    2    0  794    0   34   11    2   57]\n",
      " [  73  171    2  290   23  198   37   48   21   29]\n",
      " [  35   55   14    0   10    2  840    1    1    0]\n",
      " [   3   91   16    1    9    0    2  894    2   10]\n",
      " [  28  142   12  114    9    2   19   31  599   18]\n",
      " [  28   55    8   12   83    0    4  127    6  686]]\n"
     ]
    }
   ],
   "source": [
    "from sklearn.metrics import accuracy_score, precision_score, recall_score, f1_score, confusion_matrix\n",
    "\n",
    "# Calculate evaluation metrics for the ensemble model\n",
    "ensemble_accuracy = accuracy_score(y_test, y_pred_combined_test)\n",
    "ensemble_precision = precision_score(y_test, y_pred_combined_test, average='macro')\n",
    "ensemble_recall = recall_score(y_test, y_pred_combined_test, average='macro')\n",
    "ensemble_f1 = f1_score(y_test, y_pred_combined_test, average='macro')\n",
    "ensemble_confusion_mat = confusion_matrix(y_test, y_pred_combined_test)\n",
    "\n",
    "# Calculate evaluation metrics for the baseline model\n",
    "baseline_accuracy = accuracy_score(y_test, y_pred_test)\n",
    "baseline_precision = precision_score(y_test, y_pred_test, average='macro')\n",
    "baseline_recall = recall_score(y_test, y_pred_test, average='macro')\n",
    "baseline_f1 = f1_score(y_test, y_pred_test, average='macro')\n",
    "baseline_confusion_mat = confusion_matrix(y_test, y_pred_test)\n",
    "\n",
    "# Print ensemble model evaluation metrics\n",
    "print(\"Ensemble Model Metrics:\")\n",
    "print(\"Accuracy:\", ensemble_accuracy)\n",
    "print(\"Precision:\", ensemble_precision)\n",
    "print(\"Recall:\", ensemble_recall)\n",
    "print(\"F1 Score:\", ensemble_f1)\n",
    "print(\"Confusion Matrix:\")\n",
    "print(ensemble_confusion_mat)\n",
    "\n",
    "# Print baseline model evaluation metrics\n",
    "print(\"\\nBaseline Model Metrics:\")\n",
    "print(\"Accuracy:\", baseline_accuracy)\n",
    "print(\"Precision:\", baseline_precision)\n",
    "print(\"Recall:\", baseline_recall)\n",
    "print(\"F1 Score:\", baseline_f1)\n",
    "print(\"Confusion Matrix:\")\n",
    "print(baseline_confusion_mat)"
   ]
  },
  {
   "cell_type": "markdown",
   "metadata": {
    "id": "7pQRVY_oLjnc"
   },
   "source": [
    "**Design and implement multiple neural network architectures for handwritten digit recognition**"
   ]
  },
  {
   "cell_type": "code",
   "execution_count": 8,
   "metadata": {
    "colab": {
     "base_uri": "https://localhost:8080/"
    },
    "id": "kc1n279Vnz6N",
    "outputId": "27e56b09-70a7-4ab8-f3b6-6b69db6a4ae7"
   },
   "outputs": [
    {
     "name": "stderr",
     "output_type": "stream",
     "text": [
      "/opt/anaconda3/lib/python3.11/site-packages/keras/src/layers/reshaping/flatten.py:37: UserWarning: Do not pass an `input_shape`/`input_dim` argument to a layer. When using Sequential models, prefer using an `Input(shape)` object as the first layer in the model instead.\n",
      "  super().__init__(**kwargs)\n"
     ]
    },
    {
     "name": "stdout",
     "output_type": "stream",
     "text": [
      "Epoch 1/10\n",
      "\u001b[1m1500/1500\u001b[0m \u001b[32m━━━━━━━━━━━━━━━━━━━━\u001b[0m\u001b[37m\u001b[0m \u001b[1m4s\u001b[0m 2ms/step - accuracy: 0.8705 - loss: 0.4608 - val_accuracy: 0.9497 - val_loss: 0.1690\n",
      "Epoch 2/10\n",
      "\u001b[1m1500/1500\u001b[0m \u001b[32m━━━━━━━━━━━━━━━━━━━━\u001b[0m\u001b[37m\u001b[0m \u001b[1m2s\u001b[0m 2ms/step - accuracy: 0.9607 - loss: 0.1346 - val_accuracy: 0.9654 - val_loss: 0.1142\n",
      "Epoch 3/10\n",
      "\u001b[1m1500/1500\u001b[0m \u001b[32m━━━━━━━━━━━━━━━━━━━━\u001b[0m\u001b[37m\u001b[0m \u001b[1m3s\u001b[0m 2ms/step - accuracy: 0.9748 - loss: 0.0866 - val_accuracy: 0.9695 - val_loss: 0.1023\n",
      "Epoch 4/10\n",
      "\u001b[1m1500/1500\u001b[0m \u001b[32m━━━━━━━━━━━━━━━━━━━━\u001b[0m\u001b[37m\u001b[0m \u001b[1m2s\u001b[0m 2ms/step - accuracy: 0.9809 - loss: 0.0670 - val_accuracy: 0.9718 - val_loss: 0.0926\n",
      "Epoch 5/10\n",
      "\u001b[1m1500/1500\u001b[0m \u001b[32m━━━━━━━━━━━━━━━━━━━━\u001b[0m\u001b[37m\u001b[0m \u001b[1m2s\u001b[0m 1ms/step - accuracy: 0.9853 - loss: 0.0498 - val_accuracy: 0.9724 - val_loss: 0.0911\n",
      "Epoch 6/10\n",
      "\u001b[1m1500/1500\u001b[0m \u001b[32m━━━━━━━━━━━━━━━━━━━━\u001b[0m\u001b[37m\u001b[0m \u001b[1m2s\u001b[0m 2ms/step - accuracy: 0.9896 - loss: 0.0367 - val_accuracy: 0.9758 - val_loss: 0.0828\n",
      "Epoch 7/10\n",
      "\u001b[1m1500/1500\u001b[0m \u001b[32m━━━━━━━━━━━━━━━━━━━━\u001b[0m\u001b[37m\u001b[0m \u001b[1m3s\u001b[0m 2ms/step - accuracy: 0.9920 - loss: 0.0292 - val_accuracy: 0.9737 - val_loss: 0.0873\n",
      "Epoch 8/10\n",
      "\u001b[1m1500/1500\u001b[0m \u001b[32m━━━━━━━━━━━━━━━━━━━━\u001b[0m\u001b[37m\u001b[0m \u001b[1m2s\u001b[0m 1ms/step - accuracy: 0.9920 - loss: 0.0265 - val_accuracy: 0.9743 - val_loss: 0.0956\n",
      "Epoch 9/10\n",
      "\u001b[1m1500/1500\u001b[0m \u001b[32m━━━━━━━━━━━━━━━━━━━━\u001b[0m\u001b[37m\u001b[0m \u001b[1m2s\u001b[0m 2ms/step - accuracy: 0.9947 - loss: 0.0189 - val_accuracy: 0.9768 - val_loss: 0.0860\n",
      "Epoch 10/10\n",
      "\u001b[1m1500/1500\u001b[0m \u001b[32m━━━━━━━━━━━━━━━━━━━━\u001b[0m\u001b[37m\u001b[0m \u001b[1m2s\u001b[0m 1ms/step - accuracy: 0.9955 - loss: 0.0155 - val_accuracy: 0.9762 - val_loss: 0.0939\n",
      "\u001b[1m313/313\u001b[0m \u001b[32m━━━━━━━━━━━━━━━━━━━━\u001b[0m\u001b[37m\u001b[0m \u001b[1m0s\u001b[0m 460us/step - accuracy: 0.9730 - loss: 0.0984\n",
      "Test Loss: 0.08733654767274857\n",
      "Test Accuracy: 0.9764999747276306\n"
     ]
    }
   ],
   "source": [
    "import numpy as np\n",
    "import numpy as np\n",
    "import tensorflow as tf\n",
    "from tensorflow.keras import layers\n",
    "\n",
    "# Reshape input data\n",
    "X_train = np.reshape(X_train, (-1, 28, 28))\n",
    "X_val = np.reshape(X_val, (-1, 28, 28))\n",
    "X_test = np.reshape(X_test, (-1, 28, 28))\n",
    "\n",
    "# Rest of your code\n",
    "model = tf.keras.Sequential([\n",
    "    layers.Flatten(input_shape=(28, 28)),\n",
    "    layers.Dense(128, activation='relu'),\n",
    "    layers.Dense(10, activation='softmax')\n",
    "])\n",
    "\n",
    "model.compile(optimizer='adam',\n",
    "              loss='sparse_categorical_crossentropy',\n",
    "              metrics=['accuracy'])\n",
    "\n",
    "model.fit(X_train, y_train, epochs=10, validation_data=(X_val, y_val))\n",
    "\n",
    "test_loss, test_accuracy = model.evaluate(X_test, y_test)\n",
    "print(\"Test Loss:\", test_loss)\n",
    "print(\"Test Accuracy:\", test_accuracy)"
   ]
  },
  {
   "cell_type": "markdown",
   "metadata": {
    "id": "DgoMQ8xeL6EQ"
   },
   "source": [
    "**Experiment with different network architectures**, including variations in the number of layers, neurons per layer, activation functions, and regularization\n",
    "techniques"
   ]
  },
  {
   "cell_type": "code",
   "execution_count": 9,
   "metadata": {
    "colab": {
     "base_uri": "https://localhost:8080/"
    },
    "id": "11LWgW6qLZyB",
    "outputId": "e13364fc-2350-4de9-c66f-8a871babc259"
   },
   "outputs": [
    {
     "name": "stdout",
     "output_type": "stream",
     "text": [
      "Epoch 1/10\n",
      "\u001b[1m1500/1500\u001b[0m \u001b[32m━━━━━━━━━━━━━━━━━━━━\u001b[0m\u001b[37m\u001b[0m \u001b[1m5s\u001b[0m 3ms/step - accuracy: 0.8451 - loss: 0.4954 - val_accuracy: 0.9613 - val_loss: 0.1256\n",
      "Epoch 2/10\n",
      "\u001b[1m1500/1500\u001b[0m \u001b[32m━━━━━━━━━━━━━━━━━━━━\u001b[0m\u001b[37m\u001b[0m \u001b[1m4s\u001b[0m 3ms/step - accuracy: 0.9556 - loss: 0.1440 - val_accuracy: 0.9707 - val_loss: 0.0984\n",
      "Epoch 3/10\n",
      "\u001b[1m1500/1500\u001b[0m \u001b[32m━━━━━━━━━━━━━━━━━━━━\u001b[0m\u001b[37m\u001b[0m \u001b[1m4s\u001b[0m 3ms/step - accuracy: 0.9698 - loss: 0.0996 - val_accuracy: 0.9767 - val_loss: 0.0813\n",
      "Epoch 4/10\n",
      "\u001b[1m1500/1500\u001b[0m \u001b[32m━━━━━━━━━━━━━━━━━━━━\u001b[0m\u001b[37m\u001b[0m \u001b[1m4s\u001b[0m 3ms/step - accuracy: 0.9745 - loss: 0.0792 - val_accuracy: 0.9756 - val_loss: 0.0822\n",
      "Epoch 5/10\n",
      "\u001b[1m1500/1500\u001b[0m \u001b[32m━━━━━━━━━━━━━━━━━━━━\u001b[0m\u001b[37m\u001b[0m \u001b[1m4s\u001b[0m 3ms/step - accuracy: 0.9773 - loss: 0.0712 - val_accuracy: 0.9785 - val_loss: 0.0765\n",
      "Epoch 6/10\n",
      "\u001b[1m1500/1500\u001b[0m \u001b[32m━━━━━━━━━━━━━━━━━━━━\u001b[0m\u001b[37m\u001b[0m \u001b[1m5s\u001b[0m 4ms/step - accuracy: 0.9817 - loss: 0.0568 - val_accuracy: 0.9773 - val_loss: 0.0757\n",
      "Epoch 7/10\n",
      "\u001b[1m1500/1500\u001b[0m \u001b[32m━━━━━━━━━━━━━━━━━━━━\u001b[0m\u001b[37m\u001b[0m \u001b[1m4s\u001b[0m 3ms/step - accuracy: 0.9838 - loss: 0.0506 - val_accuracy: 0.9810 - val_loss: 0.0745\n",
      "Epoch 8/10\n",
      "\u001b[1m1500/1500\u001b[0m \u001b[32m━━━━━━━━━━━━━━━━━━━━\u001b[0m\u001b[37m\u001b[0m \u001b[1m3s\u001b[0m 2ms/step - accuracy: 0.9863 - loss: 0.0445 - val_accuracy: 0.9778 - val_loss: 0.0849\n",
      "Epoch 9/10\n",
      "\u001b[1m1500/1500\u001b[0m \u001b[32m━━━━━━━━━━━━━━━━━━━━\u001b[0m\u001b[37m\u001b[0m \u001b[1m3s\u001b[0m 2ms/step - accuracy: 0.9851 - loss: 0.0454 - val_accuracy: 0.9797 - val_loss: 0.0807\n",
      "Epoch 10/10\n",
      "\u001b[1m1500/1500\u001b[0m \u001b[32m━━━━━━━━━━━━━━━━━━━━\u001b[0m\u001b[37m\u001b[0m \u001b[1m3s\u001b[0m 2ms/step - accuracy: 0.9865 - loss: 0.0400 - val_accuracy: 0.9797 - val_loss: 0.0831\n",
      "\u001b[1m313/313\u001b[0m \u001b[32m━━━━━━━━━━━━━━━━━━━━\u001b[0m\u001b[37m\u001b[0m \u001b[1m0s\u001b[0m 538us/step - accuracy: 0.9760 - loss: 0.0891\n",
      "Test Loss: 0.07662368565797806\n",
      "Test Accuracy: 0.9789999723434448\n"
     ]
    }
   ],
   "source": [
    "import tensorflow as tf\n",
    "from tensorflow.keras import layers\n",
    "\n",
    "# Define the model architecture\n",
    "model = tf.keras.Sequential([\n",
    "    layers.Flatten(input_shape=(28, 28)),\n",
    "    layers.Dense(256, activation='relu'),\n",
    "    layers.Dropout(0.2),\n",
    "    layers.Dense(128, activation='relu'),\n",
    "    layers.Dropout(0.2),\n",
    "    layers.Dense(10, activation='softmax')\n",
    "])\n",
    "\n",
    "# Compile the model\n",
    "model.compile(optimizer='adam',\n",
    "              loss='sparse_categorical_crossentropy',\n",
    "              metrics=['accuracy'])\n",
    "\n",
    "# Train the model\n",
    "model.fit(X_train, y_train, epochs=10, validation_data=(X_val, y_val))\n",
    "\n",
    "# Evaluate the model\n",
    "test_loss, test_accuracy = model.evaluate(X_test, y_test)\n",
    "print(\"Test Loss:\", test_loss)\n",
    "print(\"Test Accuracy:\", test_accuracy)"
   ]
  },
  {
   "cell_type": "markdown",
   "metadata": {
    "id": "BeD30JpDrvn2"
   },
   "source": [
    "**Train each neural network model on the MNIST dataset and evaluate its performance and report overfitting**"
   ]
  },
  {
   "cell_type": "code",
   "execution_count": 10,
   "metadata": {
    "colab": {
     "base_uri": "https://localhost:8080/"
    },
    "id": "-CSZFMm3MHvK",
    "outputId": "035b3ace-aa19-4176-9f72-69917b93c229"
   },
   "outputs": [
    {
     "name": "stdout",
     "output_type": "stream",
     "text": [
      "Epoch 1/10\n",
      "\u001b[1m1500/1500\u001b[0m \u001b[32m━━━━━━━━━━━━━━━━━━━━\u001b[0m\u001b[37m\u001b[0m \u001b[1m2s\u001b[0m 1ms/step - accuracy: 0.8647 - loss: 0.4777 - val_accuracy: 0.9557 - val_loss: 0.1531\n",
      "Epoch 2/10\n",
      "\u001b[1m1500/1500\u001b[0m \u001b[32m━━━━━━━━━━━━━━━━━━━━\u001b[0m\u001b[37m\u001b[0m \u001b[1m2s\u001b[0m 995us/step - accuracy: 0.9595 - loss: 0.1386 - val_accuracy: 0.9662 - val_loss: 0.1152\n",
      "Epoch 3/10\n",
      "\u001b[1m1500/1500\u001b[0m \u001b[32m━━━━━━━━━━━━━━━━━━━━\u001b[0m\u001b[37m\u001b[0m \u001b[1m1s\u001b[0m 988us/step - accuracy: 0.9755 - loss: 0.0884 - val_accuracy: 0.9702 - val_loss: 0.0933\n",
      "Epoch 4/10\n",
      "\u001b[1m1500/1500\u001b[0m \u001b[32m━━━━━━━━━━━━━━━━━━━━\u001b[0m\u001b[37m\u001b[0m \u001b[1m2s\u001b[0m 1ms/step - accuracy: 0.9804 - loss: 0.0648 - val_accuracy: 0.9718 - val_loss: 0.0878\n",
      "Epoch 5/10\n",
      "\u001b[1m1500/1500\u001b[0m \u001b[32m━━━━━━━━━━━━━━━━━━━━\u001b[0m\u001b[37m\u001b[0m \u001b[1m2s\u001b[0m 1ms/step - accuracy: 0.9859 - loss: 0.0459 - val_accuracy: 0.9720 - val_loss: 0.0909\n",
      "Epoch 6/10\n",
      "\u001b[1m1500/1500\u001b[0m \u001b[32m━━━━━━━━━━━━━━━━━━━━\u001b[0m\u001b[37m\u001b[0m \u001b[1m1s\u001b[0m 984us/step - accuracy: 0.9891 - loss: 0.0367 - val_accuracy: 0.9754 - val_loss: 0.0803\n",
      "Epoch 7/10\n",
      "\u001b[1m1500/1500\u001b[0m \u001b[32m━━━━━━━━━━━━━━━━━━━━\u001b[0m\u001b[37m\u001b[0m \u001b[1m2s\u001b[0m 1ms/step - accuracy: 0.9917 - loss: 0.0290 - val_accuracy: 0.9769 - val_loss: 0.0810\n",
      "Epoch 8/10\n",
      "\u001b[1m1500/1500\u001b[0m \u001b[32m━━━━━━━━━━━━━━━━━━━━\u001b[0m\u001b[37m\u001b[0m \u001b[1m2s\u001b[0m 1ms/step - accuracy: 0.9931 - loss: 0.0232 - val_accuracy: 0.9732 - val_loss: 0.0901\n",
      "Epoch 9/10\n",
      "\u001b[1m1500/1500\u001b[0m \u001b[32m━━━━━━━━━━━━━━━━━━━━\u001b[0m\u001b[37m\u001b[0m \u001b[1m2s\u001b[0m 1ms/step - accuracy: 0.9949 - loss: 0.0183 - val_accuracy: 0.9772 - val_loss: 0.0779\n",
      "Epoch 10/10\n",
      "\u001b[1m1500/1500\u001b[0m \u001b[32m━━━━━━━━━━━━━━━━━━━━\u001b[0m\u001b[37m\u001b[0m \u001b[1m2s\u001b[0m 1ms/step - accuracy: 0.9966 - loss: 0.0132 - val_accuracy: 0.9772 - val_loss: 0.0819\n",
      "\u001b[1m313/313\u001b[0m \u001b[32m━━━━━━━━━━━━━━━━━━━━\u001b[0m\u001b[37m\u001b[0m \u001b[1m0s\u001b[0m 425us/step - accuracy: 0.9744 - loss: 0.0993\n",
      "Test Loss: 0.08555909991264343\n",
      "Test Accuracy: 0.9758999943733215\n",
      "The model is overfitting.\n"
     ]
    }
   ],
   "source": [
    "import tensorflow as tf\n",
    "from tensorflow.keras import layers\n",
    "\n",
    "# Define the model architecture\n",
    "model = tf.keras.Sequential([\n",
    "    layers.Flatten(input_shape=(28, 28)),\n",
    "    layers.Dense(128, activation='relu'),\n",
    "    layers.Dense(10, activation='softmax')\n",
    "])\n",
    "\n",
    "# Compile the model\n",
    "model.compile(optimizer='adam',\n",
    "              loss='sparse_categorical_crossentropy',\n",
    "              metrics=['accuracy'])\n",
    "\n",
    "# Train the model\n",
    "history = model.fit(X_train, y_train, epochs=10, validation_data=(X_val, y_val))\n",
    "\n",
    "# Evaluate the model on test data\n",
    "test_loss, test_accuracy = model.evaluate(X_test, y_test)\n",
    "print(\"Test Loss:\", test_loss)\n",
    "print(\"Test Accuracy:\", test_accuracy)\n",
    "\n",
    "# Analyze for overfitting\n",
    "train_accuracy = history.history['accuracy']\n",
    "val_accuracy = history.history['val_accuracy']\n",
    "\n",
    "if train_accuracy[-1] > val_accuracy[-1]:\n",
    "    print(\"The model is overfitting.\")\n",
    "else:\n",
    "    print(\"The model is not overfitting.\")"
   ]
  },
  {
   "cell_type": "markdown",
   "metadata": {
    "id": "nP0paR5p7s7G"
   },
   "source": [
    "**Perform hyperparameter tuning for the best-performing neural network architecture using techniques like Grid Search or Random Search**"
   ]
  },
  {
   "cell_type": "code",
   "execution_count": 11,
   "metadata": {
    "id": "jPCmQt789MYQ"
   },
   "outputs": [
    {
     "name": "stdout",
     "output_type": "stream",
     "text": [
      "\u001b[33mDEPRECATION: Loading egg at /opt/anaconda3/lib/python3.11/site-packages/selenium-3.141.0-py3.11.egg is deprecated. pip 24.3 will enforce this behaviour change. A possible replacement is to use pip for package installation.. Discussion can be found at https://github.com/pypa/pip/issues/12330\u001b[0m\u001b[33m\n",
      "\u001b[0mRequirement already satisfied: tensorflow in /opt/anaconda3/lib/python3.11/site-packages (2.16.1)\n",
      "Requirement already satisfied: scikit-learn in /opt/anaconda3/lib/python3.11/site-packages (1.2.2)\n",
      "Requirement already satisfied: absl-py>=1.0.0 in /opt/anaconda3/lib/python3.11/site-packages (from tensorflow) (2.1.0)\n",
      "Requirement already satisfied: astunparse>=1.6.0 in /opt/anaconda3/lib/python3.11/site-packages (from tensorflow) (1.6.3)\n",
      "Requirement already satisfied: flatbuffers>=23.5.26 in /opt/anaconda3/lib/python3.11/site-packages (from tensorflow) (24.3.25)\n",
      "Requirement already satisfied: gast!=0.5.0,!=0.5.1,!=0.5.2,>=0.2.1 in /opt/anaconda3/lib/python3.11/site-packages (from tensorflow) (0.5.4)\n",
      "Requirement already satisfied: google-pasta>=0.1.1 in /opt/anaconda3/lib/python3.11/site-packages (from tensorflow) (0.2.0)\n",
      "Requirement already satisfied: h5py>=3.10.0 in /opt/anaconda3/lib/python3.11/site-packages (from tensorflow) (3.11.0)\n",
      "Requirement already satisfied: libclang>=13.0.0 in /opt/anaconda3/lib/python3.11/site-packages (from tensorflow) (18.1.1)\n",
      "Requirement already satisfied: ml-dtypes~=0.3.1 in /opt/anaconda3/lib/python3.11/site-packages (from tensorflow) (0.3.2)\n",
      "Requirement already satisfied: opt-einsum>=2.3.2 in /opt/anaconda3/lib/python3.11/site-packages (from tensorflow) (3.3.0)\n",
      "Requirement already satisfied: packaging in /opt/anaconda3/lib/python3.11/site-packages (from tensorflow) (23.1)\n",
      "Requirement already satisfied: protobuf!=4.21.0,!=4.21.1,!=4.21.2,!=4.21.3,!=4.21.4,!=4.21.5,<5.0.0dev,>=3.20.3 in /opt/anaconda3/lib/python3.11/site-packages (from tensorflow) (3.20.3)\n",
      "Requirement already satisfied: requests<3,>=2.21.0 in /opt/anaconda3/lib/python3.11/site-packages (from tensorflow) (2.31.0)\n",
      "Requirement already satisfied: setuptools in /opt/anaconda3/lib/python3.11/site-packages (from tensorflow) (68.2.2)\n",
      "Requirement already satisfied: six>=1.12.0 in /opt/anaconda3/lib/python3.11/site-packages (from tensorflow) (1.16.0)\n",
      "Requirement already satisfied: termcolor>=1.1.0 in /opt/anaconda3/lib/python3.11/site-packages (from tensorflow) (2.4.0)\n",
      "Requirement already satisfied: typing-extensions>=3.6.6 in /opt/anaconda3/lib/python3.11/site-packages (from tensorflow) (4.9.0)\n",
      "Requirement already satisfied: wrapt>=1.11.0 in /opt/anaconda3/lib/python3.11/site-packages (from tensorflow) (1.14.1)\n",
      "Requirement already satisfied: grpcio<2.0,>=1.24.3 in /opt/anaconda3/lib/python3.11/site-packages (from tensorflow) (1.62.2)\n",
      "Requirement already satisfied: tensorboard<2.17,>=2.16 in /opt/anaconda3/lib/python3.11/site-packages (from tensorflow) (2.16.2)\n",
      "Requirement already satisfied: keras>=3.0.0 in /opt/anaconda3/lib/python3.11/site-packages (from tensorflow) (3.3.2)\n",
      "Requirement already satisfied: tensorflow-io-gcs-filesystem>=0.23.1 in /opt/anaconda3/lib/python3.11/site-packages (from tensorflow) (0.36.0)\n",
      "Requirement already satisfied: numpy<2.0.0,>=1.23.5 in /opt/anaconda3/lib/python3.11/site-packages (from tensorflow) (1.26.4)\n",
      "Requirement already satisfied: scipy>=1.3.2 in /opt/anaconda3/lib/python3.11/site-packages (from scikit-learn) (1.11.4)\n",
      "Requirement already satisfied: joblib>=1.1.1 in /opt/anaconda3/lib/python3.11/site-packages (from scikit-learn) (1.2.0)\n",
      "Requirement already satisfied: threadpoolctl>=2.0.0 in /opt/anaconda3/lib/python3.11/site-packages (from scikit-learn) (2.2.0)\n",
      "Requirement already satisfied: wheel<1.0,>=0.23.0 in /opt/anaconda3/lib/python3.11/site-packages (from astunparse>=1.6.0->tensorflow) (0.41.2)\n",
      "Requirement already satisfied: rich in /opt/anaconda3/lib/python3.11/site-packages (from keras>=3.0.0->tensorflow) (13.3.5)\n",
      "Requirement already satisfied: namex in /opt/anaconda3/lib/python3.11/site-packages (from keras>=3.0.0->tensorflow) (0.0.8)\n",
      "Requirement already satisfied: optree in /opt/anaconda3/lib/python3.11/site-packages (from keras>=3.0.0->tensorflow) (0.11.0)\n",
      "Requirement already satisfied: charset-normalizer<4,>=2 in /opt/anaconda3/lib/python3.11/site-packages (from requests<3,>=2.21.0->tensorflow) (2.0.4)\n",
      "Requirement already satisfied: idna<4,>=2.5 in /opt/anaconda3/lib/python3.11/site-packages (from requests<3,>=2.21.0->tensorflow) (3.4)\n",
      "Requirement already satisfied: urllib3<3,>=1.21.1 in /opt/anaconda3/lib/python3.11/site-packages (from requests<3,>=2.21.0->tensorflow) (2.0.7)\n",
      "Requirement already satisfied: certifi>=2017.4.17 in /opt/anaconda3/lib/python3.11/site-packages (from requests<3,>=2.21.0->tensorflow) (2024.2.2)\n",
      "Requirement already satisfied: markdown>=2.6.8 in /opt/anaconda3/lib/python3.11/site-packages (from tensorboard<2.17,>=2.16->tensorflow) (3.4.1)\n",
      "Requirement already satisfied: tensorboard-data-server<0.8.0,>=0.7.0 in /opt/anaconda3/lib/python3.11/site-packages (from tensorboard<2.17,>=2.16->tensorflow) (0.7.2)\n",
      "Requirement already satisfied: werkzeug>=1.0.1 in /opt/anaconda3/lib/python3.11/site-packages (from tensorboard<2.17,>=2.16->tensorflow) (2.2.3)\n",
      "Requirement already satisfied: MarkupSafe>=2.1.1 in /opt/anaconda3/lib/python3.11/site-packages (from werkzeug>=1.0.1->tensorboard<2.17,>=2.16->tensorflow) (2.1.3)\n",
      "Requirement already satisfied: markdown-it-py<3.0.0,>=2.2.0 in /opt/anaconda3/lib/python3.11/site-packages (from rich->keras>=3.0.0->tensorflow) (2.2.0)\n",
      "Requirement already satisfied: pygments<3.0.0,>=2.13.0 in /opt/anaconda3/lib/python3.11/site-packages (from rich->keras>=3.0.0->tensorflow) (2.15.1)\n",
      "Requirement already satisfied: mdurl~=0.1 in /opt/anaconda3/lib/python3.11/site-packages (from markdown-it-py<3.0.0,>=2.2.0->rich->keras>=3.0.0->tensorflow) (0.1.0)\n",
      "Note: you may need to restart the kernel to use updated packages.\n"
     ]
    }
   ],
   "source": [
    "pip install tensorflow scikit-learn"
   ]
  },
  {
   "cell_type": "code",
   "execution_count": null,
   "metadata": {
    "id": "IhWj4sxLiw6A"
   },
   "outputs": [],
   "source": []
  },
  {
   "cell_type": "code",
   "execution_count": 12,
   "metadata": {
    "colab": {
     "base_uri": "https://localhost:8080/"
    },
    "id": "p2SHcrUfizW1",
    "outputId": "a56be3b4-b95b-4098-e617-a6e3c8508c00"
   },
   "outputs": [
    {
     "name": "stdout",
     "output_type": "stream",
     "text": [
      "Fitting 3 folds for each of 5 candidates, totalling 15 fits\n",
      "[CV] END activation=relu, alpha=0.018721444740866466, hidden_layer_sizes=(256,); total time=  52.6s\n",
      "[CV] END activation=relu, alpha=0.018721444740866466, hidden_layer_sizes=(256,); total time= 1.7min\n",
      "[CV] END activation=relu, alpha=0.018721444740866466, hidden_layer_sizes=(256,); total time= 1.5min\n",
      "[CV] END activation=logistic, alpha=0.02725290047901915, hidden_layer_sizes=(512,); total time= 8.3min\n",
      "[CV] END activation=logistic, alpha=0.02725290047901915, hidden_layer_sizes=(512,); total time= 6.7min\n",
      "[CV] END activation=logistic, alpha=0.02725290047901915, hidden_layer_sizes=(512,); total time=10.7min\n",
      "[CV] END activation=relu, alpha=0.07254170355010559, hidden_layer_sizes=(128,); total time= 1.4min\n",
      "[CV] END activation=relu, alpha=0.07254170355010559, hidden_layer_sizes=(128,); total time= 2.2min\n",
      "[CV] END activation=relu, alpha=0.07254170355010559, hidden_layer_sizes=(128,); total time= 1.8min\n",
      "[CV] END activation=relu, alpha=0.002601057144143015, hidden_layer_sizes=(512,); total time= 2.6min\n",
      "[CV] END activation=relu, alpha=0.002601057144143015, hidden_layer_sizes=(512,); total time= 3.4min\n",
      "[CV] END activation=relu, alpha=0.002601057144143015, hidden_layer_sizes=(512,); total time= 2.2min\n",
      "[CV] END activation=logistic, alpha=0.03134080547366807, hidden_layer_sizes=(256,); total time= 3.5min\n",
      "[CV] END activation=logistic, alpha=0.03134080547366807, hidden_layer_sizes=(256,); total time= 2.0min\n",
      "[CV] END activation=logistic, alpha=0.03134080547366807, hidden_layer_sizes=(256,); total time= 3.3min\n",
      "Best Hyperparameters: {'activation': 'relu', 'alpha': 0.002601057144143015, 'hidden_layer_sizes': (512,)}\n",
      "Test Accuracy: 0.9782\n"
     ]
    }
   ],
   "source": [
    "import numpy as np\n",
    "from sklearn.model_selection import RandomizedSearchCV\n",
    "from sklearn.neural_network import MLPClassifier\n",
    "from scipy.stats import uniform\n",
    "\n",
    "# Assuming X_train and X_test are initially in shape [n_samples, img_height, img_width]\n",
    "# Reshape X_train and X_test to [n_samples, img_height*img_width]\n",
    "X_train = X_train.reshape(X_train.shape[0], -1)\n",
    "X_test = X_test.reshape(X_test.shape[0], -1)\n",
    "\n",
    "# Define the model\n",
    "def create_model(hidden_layer_sizes=(128,), activation='relu', alpha=0.0001):\n",
    "    model = MLPClassifier(hidden_layer_sizes=hidden_layer_sizes,\n",
    "                          activation=activation,\n",
    "                          alpha=alpha,\n",
    "                          batch_size='auto',\n",
    "                          learning_rate='constant',\n",
    "                          learning_rate_init=0.001,\n",
    "                          max_iter=500,\n",
    "                          shuffle=True,\n",
    "                          random_state=42)\n",
    "    return model\n",
    "\n",
    "# Create the MLPClassifier model using the function\n",
    "model = create_model()\n",
    "\n",
    "# Define the hyperparameters to tune\n",
    "param_dist = {\n",
    "    'hidden_layer_sizes': [(128,), (256,), (512,)],\n",
    "    'activation': ['relu', 'logistic'],\n",
    "    'alpha': uniform(loc=0.0001, scale=0.1)\n",
    "}\n",
    "\n",
    "# Perform Randomized Search\n",
    "random_search = RandomizedSearchCV(estimator=model, param_distributions=param_dist, cv=3, n_iter=5, verbose=2)\n",
    "random_search.fit(X_train, y_train)\n",
    "\n",
    "# Print the best hyperparameters\n",
    "print(\"Best Hyperparameters:\", random_search.best_params_)\n",
    "\n",
    "# Evaluate the best model on test data\n",
    "best_model = random_search.best_estimator_\n",
    "test_accuracy = best_model.score(X_test, y_test)\n",
    "print(\"Test Accuracy:\", test_accuracy)\n"
   ]
  },
  {
   "cell_type": "markdown",
   "metadata": {
    "id": "BUyqrD4grQOC"
   },
   "source": [
    "**Implement strategies to mitigate overfitting in neural networks, such as dropout regularization or early stopping**"
   ]
  },
  {
   "cell_type": "code",
   "execution_count": null,
   "metadata": {
    "id": "mbkz35vXrPhQ"
   },
   "outputs": [],
   "source": []
  },
  {
   "cell_type": "code",
   "execution_count": 59,
   "metadata": {},
   "outputs": [
    {
     "name": "stderr",
     "output_type": "stream",
     "text": [
      "/opt/anaconda3/lib/python3.11/site-packages/keras/src/layers/reshaping/flatten.py:37: UserWarning: Do not pass an `input_shape`/`input_dim` argument to a layer. When using Sequential models, prefer using an `Input(shape)` object as the first layer in the model instead.\n",
      "  super().__init__(**kwargs)\n"
     ]
    }
   ],
   "source": [
    "import tensorflow as tf\n",
    "\n",
    "# تعريف النموذج\n",
    "model = tf.keras.Sequential([\n",
    "    tf.keras.layers.Flatten(input_shape=(28, 28)),\n",
    "    tf.keras.layers.Dense(128, activation='relu'),\n",
    "    tf.keras.layers.Dropout(0.2),  # تطبيق الإسقاط بنسبة 0.2\n",
    "    tf.keras.layers.Dense(10, activation='softmax')\n",
    "])\n",
    "\n",
    "# تجميع النموذج\n",
    "model.compile(optimizer='adam',\n",
    "              loss='sparse_categorical_crossentropy',\n",
    "              metrics=['accuracy'])\n"
   ]
  },
  {
   "cell_type": "code",
   "execution_count": 61,
   "metadata": {
    "id": "fbt6aUvPsKE-"
   },
   "outputs": [
    {
     "name": "stdout",
     "output_type": "stream",
     "text": [
      "\u001b[1m1500/1500\u001b[0m \u001b[32m━━━━━━━━━━━━━━━━━━━━\u001b[0m\u001b[37m\u001b[0m \u001b[1m2s\u001b[0m 1ms/step - accuracy: 0.4902 - loss: 1.8256 - val_accuracy: 0.8202 - val_loss: 0.7430\n",
      "Restoring model weights from the end of the best epoch: 1.\n"
     ]
    },
    {
     "data": {
      "text/plain": [
       "<keras.src.callbacks.history.History at 0x3b64842d0>"
      ]
     },
     "execution_count": 61,
     "metadata": {},
     "output_type": "execute_result"
    }
   ],
   "source": [
    "# Reshape X_train and X_val from (num_samples, 784) to (num_samples, 28, 28)\n",
    "X_train = X_train.reshape(X_train.shape[0], 28, 28)\n",
    "X_val = X_val.reshape(X_val.shape[0], 28, 28)\n",
    "\n",
    "# Then fit the model\n",
    "model.fit(X_train, y_train, validation_data=(X_val, y_val), callbacks=[early_stopping])\n"
   ]
  },
  {
   "cell_type": "markdown",
   "metadata": {
    "id": "5Ge90g4srXvL"
   },
   "source": [
    "**Evaluate the tuned model's performance and compare it with the baseline and ensemble models**"
   ]
  },
  {
   "cell_type": "code",
   "execution_count": 64,
   "metadata": {
    "id": "iLeNG7Jwrfhj"
   },
   "outputs": [
    {
     "name": "stdout",
     "output_type": "stream",
     "text": [
      "Epoch 1/10\n",
      "\u001b[1m1875/1875\u001b[0m \u001b[32m━━━━━━━━━━━━━━━━━━━━\u001b[0m\u001b[37m\u001b[0m \u001b[1m2s\u001b[0m 1ms/step - accuracy: 0.9616 - loss: 0.1286 - val_accuracy: 0.0920 - val_loss: 2.3758\n",
      "Epoch 2/10\n",
      "\u001b[1m1875/1875\u001b[0m \u001b[32m━━━━━━━━━━━━━━━━━━━━\u001b[0m\u001b[37m\u001b[0m \u001b[1m2s\u001b[0m 998us/step - accuracy: 0.9647 - loss: 0.1160 - val_accuracy: 0.0920 - val_loss: 2.3739\n",
      "Epoch 3/10\n",
      "\u001b[1m1875/1875\u001b[0m \u001b[32m━━━━━━━━━━━━━━━━━━━━\u001b[0m\u001b[37m\u001b[0m \u001b[1m2s\u001b[0m 1ms/step - accuracy: 0.9666 - loss: 0.1063 - val_accuracy: 0.0920 - val_loss: 2.3874\n",
      "Epoch 4/10\n",
      "\u001b[1m1875/1875\u001b[0m \u001b[32m━━━━━━━━━━━━━━━━━━━━\u001b[0m\u001b[37m\u001b[0m \u001b[1m2s\u001b[0m 1ms/step - accuracy: 0.9678 - loss: 0.1020 - val_accuracy: 0.0920 - val_loss: 2.3913\n",
      "Epoch 5/10\n",
      "\u001b[1m1875/1875\u001b[0m \u001b[32m━━━━━━━━━━━━━━━━━━━━\u001b[0m\u001b[37m\u001b[0m \u001b[1m2s\u001b[0m 1ms/step - accuracy: 0.9704 - loss: 0.0945 - val_accuracy: 0.0921 - val_loss: 2.3979\n",
      "Epoch 6/10\n",
      "\u001b[1m1875/1875\u001b[0m \u001b[32m━━━━━━━━━━━━━━━━━━━━\u001b[0m\u001b[37m\u001b[0m \u001b[1m2s\u001b[0m 1ms/step - accuracy: 0.9699 - loss: 0.0961 - val_accuracy: 0.0929 - val_loss: 2.4034\n",
      "Epoch 7/10\n",
      "\u001b[1m1875/1875\u001b[0m \u001b[32m━━━━━━━━━━━━━━━━━━━━\u001b[0m\u001b[37m\u001b[0m \u001b[1m2s\u001b[0m 1ms/step - accuracy: 0.9736 - loss: 0.0822 - val_accuracy: 0.0950 - val_loss: 2.4098\n",
      "Epoch 8/10\n",
      "\u001b[1m1875/1875\u001b[0m \u001b[32m━━━━━━━━━━━━━━━━━━━━\u001b[0m\u001b[37m\u001b[0m \u001b[1m2s\u001b[0m 983us/step - accuracy: 0.9750 - loss: 0.0778 - val_accuracy: 0.1328 - val_loss: 2.4255\n",
      "Epoch 9/10\n",
      "\u001b[1m1875/1875\u001b[0m \u001b[32m━━━━━━━━━━━━━━━━━━━━\u001b[0m\u001b[37m\u001b[0m \u001b[1m2s\u001b[0m 1ms/step - accuracy: 0.9760 - loss: 0.0741 - val_accuracy: 0.1405 - val_loss: 2.4523\n",
      "Epoch 10/10\n",
      "\u001b[1m1875/1875\u001b[0m \u001b[32m━━━━━━━━━━━━━━━━━━━━\u001b[0m\u001b[37m\u001b[0m \u001b[1m2s\u001b[0m 1ms/step - accuracy: 0.9744 - loss: 0.0755 - val_accuracy: 0.1632 - val_loss: 2.4808\n",
      "\u001b[1m313/313\u001b[0m \u001b[32m━━━━━━━━━━━━━━━━━━━━\u001b[0m\u001b[37m\u001b[0m \u001b[1m0s\u001b[0m 526us/step - accuracy: 0.9688 - loss: 0.1502\n",
      "Test Loss: 0.13318152725696564\n",
      "Test Accuracy: 0.9715999960899353\n"
     ]
    }
   ],
   "source": [
    "\n",
    "model.fit(X_train, y_train, epochs=10, batch_size=32, validation_data=(X_val, y_val))\n",
    "\n",
    "\n",
    "test_loss, test_accuracy = model.evaluate(X_test, y_test)\n",
    "print(\"Test Loss:\", test_loss)\n",
    "print(\"Test Accuracy:\", test_accuracy)\n"
   ]
  },
  {
   "cell_type": "markdown",
   "metadata": {
    "id": "XcAMSSyFrgNZ"
   },
   "source": [
    "**Apply Principal Component Analysis (PCA) to transform the original data into a lower-dimensional space**"
   ]
  },
  {
   "cell_type": "code",
   "execution_count": 66,
   "metadata": {
    "id": "-cXMa64Yrmt6"
   },
   "outputs": [
    {
     "name": "stdout",
     "output_type": "stream",
     "text": [
      "Explained Variance Ratio: [0.09746116 0.07155445]\n",
      "Transformed Data Shape: (70000, 2)\n"
     ]
    }
   ],
   "source": [
    "from sklearn.decomposition import PCA\n",
    "\n",
    "# Instantiate PCA with the desired number of components\n",
    "n_components = 2  # Number of components for the lower-dimensional space\n",
    "pca = PCA(n_components=n_components)\n",
    "\n",
    "# Fit PCA on the original data\n",
    "pca.fit(X)\n",
    "\n",
    "# Transform the original data into the lower-dimensional space\n",
    "X_pca = pca.transform(X)\n",
    "\n",
    "# Print the explained variance ratio of the principal components\n",
    "print(\"Explained Variance Ratio:\", pca.explained_variance_ratio_)\n",
    "\n",
    "# Print the shape of the transformed data\n",
    "print(\"Transformed Data Shape:\", X_pca.shape)"
   ]
  },
  {
   "cell_type": "markdown",
   "metadata": {
    "id": "11yLd0KXrnn-"
   },
   "source": [
    "**Train a neural network model on the PCA-transformed data and compare its performance with the model trained on the original data**"
   ]
  },
  {
   "cell_type": "code",
   "execution_count": 67,
   "metadata": {
    "id": "fv6issI4rtW6"
   },
   "outputs": [
    {
     "name": "stdout",
     "output_type": "stream",
     "text": [
      "Model trained on original data - Test Accuracy: 0.9630714285714286\n",
      "Model trained on transformed data - Test Accuracy: 0.4265\n"
     ]
    }
   ],
   "source": [
    "from sklearn.model_selection import train_test_split\n",
    "from sklearn.neural_network import MLPClassifier\n",
    "\n",
    "# Split the original data and transformed data into train and test sets\n",
    "X_train, X_test, y_train, y_test = train_test_split(X, y, test_size=0.2, random_state=42)\n",
    "X_pca_train, X_pca_test, _, _ = train_test_split(X_pca, y, test_size=0.2, random_state=42)\n",
    "\n",
    "# Train the model on the original data\n",
    "model_original = MLPClassifier(hidden_layer_sizes=(128,), activation='relu', random_state=42)\n",
    "model_original.fit(X_train, y_train)\n",
    "\n",
    "# Train the model on the transformed data\n",
    "model_pca = MLPClassifier(hidden_layer_sizes=(128,), activation='relu', random_state=42)\n",
    "model_pca.fit(X_pca_train, y_train)\n",
    "\n",
    "# Evaluate model performance on the original data\n",
    "accuracy_original = model_original.score(X_test, y_test)\n",
    "print(\"Model trained on original data - Test Accuracy:\", accuracy_original)\n",
    "\n",
    "# Evaluate model performance on the transformed data\n",
    "accuracy_pca = model_pca.score(X_pca_test, y_test)\n",
    "print(\"Model trained on transformed data - Test Accuracy:\", accuracy_pca)"
   ]
  },
  {
   "cell_type": "markdown",
   "metadata": {
    "id": "mLj6-rP5ruBe"
   },
   "source": [
    "**Visualize the high-dimensional MNIST data in a 2D space using t-Distributed Stochastic Neighbor Embedding (t-SNE) and interpret the results**"
   ]
  },
  {
   "cell_type": "code",
   "execution_count": 71,
   "metadata": {},
   "outputs": [
    {
     "name": "stderr",
     "output_type": "stream",
     "text": [
      "/opt/anaconda3/lib/python3.11/site-packages/sklearn/datasets/_openml.py:968: FutureWarning: The default value of `parser` will change from `'liac-arff'` to `'auto'` in 1.4. You can set `parser='auto'` to silence this warning. Therefore, an `ImportError` will be raised from 1.4 if the dataset is dense and pandas is not installed. Note that the pandas parser may return different data types. See the Notes Section in fetch_openml's API doc for details.\n",
      "  warn(\n"
     ]
    },
    {
     "data": {
      "image/png": "[encoded data removed]",
      "text/plain": [
       "<Figure size 640x480 with 2 Axes>"
      ]
     },
     "metadata": {},
     "output_type": "display_data"
    }
   ],
   "source": [
    "import matplotlib.pyplot as plt\n",
    "from sklearn.datasets import fetch_openml\n",
    "from sklearn.preprocessing import StandardScaler\n",
    "from sklearn.manifold import TSNE\n",
    "\n",
    "\n",
    "X, y = fetch_openml('mnist_784', version=1, return_X_y=True)\n",
    "\n",
    "\n",
    "y = y.astype(int)\n",
    "\n",
    "scaler = StandardScaler()\n",
    "X_scaled = scaler.fit_transform(X)\n",
    "\n",
    "\n",
    "tsne = TSNE(n_components=2, random_state=42)\n",
    "X_tsne = tsne.fit_transform(X_scaled)\n",
    "\n",
    "plt.scatter(X_tsne[:, 0], X_tsne[:, 1], c=y, cmap='tab10')\n",
    "plt.title('t-SNE Visualization of MNIST')\n",
    "plt.colorbar() \n",
    "plt.show()\n"
   ]
  },
  {
   "cell_type": "code",
   "execution_count": null,
   "metadata": {},
   "outputs": [],
   "source": []
  }
 ],
 "metadata": {
  "accelerator": "GPU",
  "colab": {
   "gpuType": "A100",
   "machine_shape": "hm",
   "provenance": []
  },
  "kernelspec": {
   "display_name": "Python 3 (ipykernel)",
   "language": "python",
   "name": "python3"
  },
  "language_info": {
   "codemirror_mode": {
    "name": "ipython",
    "version": 3
   },
   "file_extension": ".py",
   "mimetype": "text/x-python",
   "name": "python",
   "nbconvert_exporter": "python",
   "pygments_lexer": "ipython3",
   "version": "3.11.7"
  }
 },
 "nbformat": 4,
 "nbformat_minor": 4
}
